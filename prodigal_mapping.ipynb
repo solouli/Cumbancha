{
 "cells": [
  {
   "cell_type": "code",
   "execution_count": 10,
   "metadata": {},
   "outputs": [],
   "source": [
    "import re"
   ]
  },
  {
   "cell_type": "code",
   "execution_count": 11,
   "metadata": {},
   "outputs": [],
   "source": [
    "genes = open('my_genes_prodigal.txt','r')\n",
    "hcontigs = open(\"hcontigs.txt\", 'w')\n",
    "lackcds = open(\"lackcds.txt\", 'w')\n",
    "\n",
    "genes_str = genes.read()\n",
    "genes_array = re.split(\"//\", genes_str)[:-1]"
   ]
  },
  {
   "cell_type": "code",
   "execution_count": 12,
   "metadata": {},
   "outputs": [],
   "source": [
    "for element in genes_array:\n",
    "    if re.search(\"CDS\", element): \n",
    "        contig = re.split(\"\\;\", element)\n",
    "        contig_id = re.findall('\"([^\"]+)', contig[2])[0]\n",
    "        line = '>' + contig_id + \"\\n\"\n",
    "        hcontigs.write(line)\n",
    "    else:\n",
    "        contig2 = re.split(\"\\;\", element)\n",
    "        contig_id2 = re.findall('\"([^\"]+)', contig2[2])[0]\n",
    "        line2 = '>' + contig_id2 + \"\\n\"\n",
    "        lackcds.write(line2)\n",
    "hcontigs.close()\n",
    "lackcds.close()"
   ]
  },
  {
   "cell_type": "code",
   "execution_count": 3,
   "metadata": {},
   "outputs": [],
   "source": [
    "for element in genes_array:\n",
    "    if re.search(\"CDS\", element): \n",
    "        contig = re.split(\"\\;\", element)\n",
    "        contig_id = re.findall('\"([^\"]+)', contig[2])[0]\n",
    "        line = '>' + contig_id + \"\\n\"\n",
    "        hcontigs.write(line)\n",
    "\n",
    "hcontigs.close()"
   ]
  },
  {
   "cell_type": "code",
   "execution_count": null,
   "metadata": {},
   "outputs": [],
   "source": [
    "def concatenate_list_data(list):\n",
    "    result = ''\n",
    "    for element in list:\n",
    "        z = re.match(\"(>\\w+)\\W\", element)\n",
    "        if z is None: \n",
    "            result += str(element) \n",
    "        else: \n",
    "            result += '\\n' + str(element) + '\\n'\n",
    "    return result \n",
    "        \n",
    "fasta = concatenate_list_data(alist)\n",
    "print(fasta)"
   ]
  }
 ],
 "metadata": {
  "kernelspec": {
   "display_name": "Python 3",
   "language": "python",
   "name": "python3"
  },
  "language_info": {
   "codemirror_mode": {
    "name": "ipython",
    "version": 3
   },
   "file_extension": ".py",
   "mimetype": "text/x-python",
   "name": "python",
   "nbconvert_exporter": "python",
   "pygments_lexer": "ipython3",
   "version": "3.7.4"
  }
 },
 "nbformat": 4,
 "nbformat_minor": 2
}
